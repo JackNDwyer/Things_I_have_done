{
 "cells": [
  {
   "cell_type": "code",
   "execution_count": 24,
   "metadata": {
    "collapsed": false
   },
   "outputs": [],
   "source": [
    "import pandas as pd\n",
    "import numpy as np\n",
    "import matplotlib.pyplot as plt\n",
    "#import datetime as dt\n",
    "df = pd.read_csv('purchases.csv')\n",
    "df['user_id'] = df['user_id'].astype(str)"
   ]
  },
  {
   "cell_type": "code",
   "execution_count": 25,
   "metadata": {
    "collapsed": false,
    "scrolled": true
   },
   "outputs": [
    {
     "name": "stdout",
     "output_type": "stream",
     "text": [
      "<class 'pandas.core.frame.DataFrame'>\n",
      "RangeIndex: 51243 entries, 0 to 51242\n",
      "Data columns (total 3 columns):\n",
      "user_id             51243 non-null object\n",
      "purchase_amount     51243 non-null float64\n",
      "transaction_date    51243 non-null object\n",
      "dtypes: float64(1), object(2)\n",
      "memory usage: 1.2+ MB\n"
     ]
    }
   ],
   "source": [
    "#get a feel for the data set\n",
    "df.info()"
   ]
  },
  {
   "cell_type": "code",
   "execution_count": 26,
   "metadata": {
    "collapsed": false,
    "scrolled": true
   },
   "outputs": [
    {
     "data": {
      "text/html": [
       "<div>\n",
       "<table border=\"1\" class=\"dataframe\">\n",
       "  <thead>\n",
       "    <tr style=\"text-align: right;\">\n",
       "      <th></th>\n",
       "      <th>purchase_amount</th>\n",
       "    </tr>\n",
       "  </thead>\n",
       "  <tbody>\n",
       "    <tr>\n",
       "      <th>count</th>\n",
       "      <td>51243.000000</td>\n",
       "    </tr>\n",
       "    <tr>\n",
       "      <th>mean</th>\n",
       "      <td>62.337195</td>\n",
       "    </tr>\n",
       "    <tr>\n",
       "      <th>std</th>\n",
       "      <td>156.606801</td>\n",
       "    </tr>\n",
       "    <tr>\n",
       "      <th>min</th>\n",
       "      <td>5.000000</td>\n",
       "    </tr>\n",
       "    <tr>\n",
       "      <th>25%</th>\n",
       "      <td>25.000000</td>\n",
       "    </tr>\n",
       "    <tr>\n",
       "      <th>50%</th>\n",
       "      <td>30.000000</td>\n",
       "    </tr>\n",
       "    <tr>\n",
       "      <th>75%</th>\n",
       "      <td>60.000000</td>\n",
       "    </tr>\n",
       "    <tr>\n",
       "      <th>max</th>\n",
       "      <td>4500.000000</td>\n",
       "    </tr>\n",
       "  </tbody>\n",
       "</table>\n",
       "</div>"
      ],
      "text/plain": [
       "       purchase_amount\n",
       "count     51243.000000\n",
       "mean         62.337195\n",
       "std         156.606801\n",
       "min           5.000000\n",
       "25%          25.000000\n",
       "50%          30.000000\n",
       "75%          60.000000\n",
       "max        4500.000000"
      ]
     },
     "execution_count": 26,
     "metadata": {},
     "output_type": "execute_result"
    }
   ],
   "source": [
    "#see basic summary statistics\n",
    "df.describe()"
   ]
  },
  {
   "cell_type": "markdown",
   "metadata": {},
   "source": [
    "## We can see our interquartile range is from 25 to 60, but because our standard deviation is so high, a cutoff of 60 for big spending transactions is pretty meaningless (especially when we have 100's of customers spending more than 1000 in one transaction). That said, we will aggregate based on sum total of money spent, and run our analysis from there."
   ]
  },
  {
   "cell_type": "code",
   "execution_count": 27,
   "metadata": {
    "collapsed": false,
    "scrolled": true
   },
   "outputs": [
    {
     "data": {
      "text/plain": [
       "user_id\n",
       "246480    4500.00\n",
       "222740    4500.00\n",
       "141340    4419.00\n",
       "39920     4000.00\n",
       "98550     4000.00\n",
       "216730    4000.00\n",
       "126120    4000.00\n",
       "187390    4000.00\n",
       "181800    4000.00\n",
       "247870    4000.00\n",
       "112000    4000.00\n",
       "98790     4000.00\n",
       "193210    3627.10\n",
       "147510    3500.00\n",
       "76440     3500.00\n",
       "13610     3100.00\n",
       "162530    3000.00\n",
       "84010     3000.00\n",
       "215460    3000.00\n",
       "84050     3000.00\n",
       "123480    3000.00\n",
       "32800     3000.00\n",
       "74080     3000.00\n",
       "215930    3000.00\n",
       "181920    3000.00\n",
       "164930    3000.00\n",
       "123990    3000.00\n",
       "156280    3000.00\n",
       "212980    3000.00\n",
       "246530    2500.00\n",
       "           ...   \n",
       "140600    1500.00\n",
       "150370    1500.00\n",
       "191560    1500.00\n",
       "248110    1500.00\n",
       "166760    1500.00\n",
       "20200     1500.00\n",
       "73170     1500.00\n",
       "197420    1500.00\n",
       "211990    1488.00\n",
       "50790     1400.00\n",
       "158690    1400.00\n",
       "48080     1305.00\n",
       "203460    1282.00\n",
       "157770    1268.00\n",
       "211970    1230.00\n",
       "200620    1200.00\n",
       "126430    1200.00\n",
       "83120     1200.00\n",
       "182050    1200.00\n",
       "134590    1200.00\n",
       "234230    1184.21\n",
       "223100    1129.22\n",
       "96920     1100.00\n",
       "191520    1080.00\n",
       "2190      1000.00\n",
       "252390    1000.00\n",
       "142110    1000.00\n",
       "11950     1000.00\n",
       "69440     1000.00\n",
       "262000    1000.00\n",
       "Name: purchase_amount, dtype: float64"
      ]
     },
     "execution_count": 27,
     "metadata": {},
     "output_type": "execute_result"
    }
   ],
   "source": [
    "df.groupby('user_id').max().purchase_amount.sort_values(ascending = False).head(100)"
   ]
  },
  {
   "cell_type": "code",
   "execution_count": 28,
   "metadata": {
    "collapsed": true
   },
   "outputs": [],
   "source": [
    "#change our date to datetime (the python date format)\n",
    "df['transaction_date'] = pd.to_datetime(df['transaction_date'])\n",
    "#get weekday, year, and month from the data. I'm gonna run a quick random forest using this info to see if date affects\n",
    "#amount spent\n",
    "df['weekday'] = df['transaction_date'].dt.weekday"
   ]
  },
  {
   "cell_type": "code",
   "execution_count": 29,
   "metadata": {
    "collapsed": false
   },
   "outputs": [],
   "source": [
    "df['year']=df['transaction_date'].dt.year\n",
    "df['month']=df['transaction_date'].dt.month"
   ]
  },
  {
   "cell_type": "code",
   "execution_count": 30,
   "metadata": {
    "collapsed": false
   },
   "outputs": [
    {
     "data": {
      "text/plain": [
       "weekday\n",
       "0     81909.00\n",
       "1    403088.66\n",
       "2    832852.47\n",
       "3    560034.88\n",
       "4    727430.95\n",
       "5    481037.66\n",
       "6    107991.28\n",
       "Name: purchase_amount, dtype: float64"
      ]
     },
     "execution_count": 30,
     "metadata": {},
     "output_type": "execute_result"
    }
   ],
   "source": [
    "#group purchase by weekday and sum the amount spent\n",
    "df.groupby('weekday').purchase_amount.sum()"
   ]
  },
  {
   "cell_type": "code",
   "execution_count": 31,
   "metadata": {
    "collapsed": false
   },
   "outputs": [
    {
     "data": {
      "text/plain": [
       "weekday\n",
       "0      955\n",
       "1     5626\n",
       "2    13970\n",
       "3     8292\n",
       "4    12828\n",
       "5     8023\n",
       "6     1549\n",
       "Name: purchase_amount, dtype: int64"
      ]
     },
     "execution_count": 31,
     "metadata": {},
     "output_type": "execute_result"
    }
   ],
   "source": [
    "#group purchase by weekday and count the order\n",
    "df.groupby('weekday').purchase_amount.count()\n"
   ]
  },
  {
   "cell_type": "markdown",
   "metadata": {},
   "source": [
    "## Ran a check to ensure that all of the purchases at least have a relatively normal size (maybe our biggest clients happen to close dealds on Wednesdays, or something along those lines). Looks like Sum and Count are pretty interchangeable."
   ]
  },
  {
   "cell_type": "code",
   "execution_count": 32,
   "metadata": {
    "collapsed": false,
    "scrolled": true
   },
   "outputs": [],
   "source": [
    "#sum to get the various orders by id, and then group further by all of the dates. This will get us all the orders\n",
    "#done by various customers grouped up all the way to day\n",
    "df_agged = df.groupby(['user_id','year','month','weekday']).sum().purchase_amount.head(500).reset_index()\n",
    "#we also find out who our biggest customers are in this dataframe\n",
    "df_big_spend = df.groupby('user_id').purchase_amount.sum()"
   ]
  },
  {
   "cell_type": "code",
   "execution_count": 33,
   "metadata": {
    "collapsed": false,
    "scrolled": false
   },
   "outputs": [],
   "source": [
    "df_big_spend = df_big_spend.reset_index().set_index('user_id')"
   ]
  },
  {
   "cell_type": "code",
   "execution_count": 34,
   "metadata": {
    "collapsed": false
   },
   "outputs": [
    {
     "name": "stdout",
     "output_type": "stream",
     "text": [
      "<class 'pandas.core.frame.DataFrame'>\n",
      "Index: 18417 entries, 10 to 99990\n",
      "Data columns (total 1 columns):\n",
      "purchase_amount    18417 non-null float64\n",
      "dtypes: float64(1)\n",
      "memory usage: 287.8+ KB\n"
     ]
    }
   ],
   "source": [
    "df_big_spend.info()"
   ]
  },
  {
   "cell_type": "code",
   "execution_count": 35,
   "metadata": {
    "collapsed": false
   },
   "outputs": [],
   "source": [
    "#any customer who has spent a sum total of $1000 or more will be considered a big spender\n",
    "df_big_spend['big_spender'] = np.where(df_big_spend['purchase_amount']>=1000, 1, 0)"
   ]
  },
  {
   "cell_type": "code",
   "execution_count": 36,
   "metadata": {
    "collapsed": false
   },
   "outputs": [],
   "source": [
    "#merge our big spenders and our amount spent\n",
    "fin_df = df_big_spend['big_spender'].reset_index().merge(df_agged, on='user_id',how = 'right')"
   ]
  },
  {
   "cell_type": "code",
   "execution_count": 37,
   "metadata": {
    "collapsed": false
   },
   "outputs": [
    {
     "name": "stdout",
     "output_type": "stream",
     "text": [
      "Tuned Forest classifier paramters: {'n_estimators': 1, 'max_depth': 3}\n",
      "Tuned Forest classifier score: 0.925714285714\n",
      "accuracy Score 0.913333\n",
      "Confusion Matrix:\n",
      "[[130   6]\n",
      " [  7   7]]\n"
     ]
    }
   ],
   "source": [
    "#here we are creating a random forest that trains on day of week, month, and year, \n",
    "#and figures out if they can be used to predict a big spender\n",
    "from sklearn.model_selection import GridSearchCV\n",
    "from sklearn.metrics import accuracy_score, precision_recall_curve, classification_report, confusion_matrix\n",
    "from sklearn.cross_validation import train_test_split\n",
    "from sklearn.ensemble import RandomForestClassifier\n",
    "\n",
    "\n",
    "#split df in day, month, and year for X\n",
    "X = fin_df.iloc[:,2:]\n",
    "X = X.dropna()\n",
    "#big spender is our target\n",
    "y = fin_df['big_spender']\n",
    "y=y.dropna()\n",
    "\n",
    "#initialize forest\n",
    "rf = RandomForestClassifier()\n",
    "\n",
    "#here are our parameters\n",
    "param_grid = {\"max_depth\": [None,1,2,3,4],     \n",
    "         'n_estimators': [1,2,3] }\n",
    "\n",
    "#split X into train and test samples\n",
    "x_train, x_test, y_train, y_test = train_test_split(X, y, test_size = .3)\n",
    "#perform a grid search to ensure we are using the best parameters\n",
    "rf_cv = GridSearchCV(rf, param_grid, cv = 5)\n",
    "#train on our train data\n",
    "rf_cv.fit(x_train, y_train)\n",
    "\n",
    "#predict on out test\n",
    "prediction = rf_cv.predict(x_test)\n",
    "\n",
    "print(\"Tuned Forest classifier paramters: {}\".format(rf_cv.best_params_))\n",
    "print(\"Tuned Forest classifier score: {}\".format(rf_cv.best_score_))\n",
    "\n",
    "#check our predicition against out y values\n",
    "print('accuracy Score %f' %accuracy_score(y_test,prediction))\n",
    "#Adding in a confusion matrix and ROC curve \n",
    "print('Confusion Matrix:')\n",
    "print(confusion_matrix(y_test, prediction))\n",
    "\n",
    "\n",
    "\n",
    "\n",
    "#seemed to do pretty well. We can now use this model to check new customers. It's probably not going to be\n",
    "#an incredible model or anything, but I figured I'd make it to show I can work a random forest."
   ]
  },
  {
   "cell_type": "code",
   "execution_count": 38,
   "metadata": {
    "collapsed": false
   },
   "outputs": [
    {
     "name": "stderr",
     "output_type": "stream",
     "text": [
      "/Users/jackdwyer/anaconda/lib/python2.7/site-packages/ipykernel/__main__.py:1: FutureWarning: sort(columns=....) is deprecated, use sort_values(by=.....)\n",
      "  if __name__ == '__main__':\n"
     ]
    }
   ],
   "source": [
    "df_big_spend = df_big_spend.sort('purchase_amount',ascending=False)\n"
   ]
  },
  {
   "cell_type": "code",
   "execution_count": 39,
   "metadata": {
    "collapsed": false,
    "scrolled": true
   },
   "outputs": [
    {
     "data": {
      "image/png": "[encoded data removed]",
      "text/plain": [
       "<matplotlib.figure.Figure at 0x116ac7650>"
      ]
     },
     "metadata": {},
     "output_type": "display_data"
    }
   ],
   "source": [
    "plt.hist(df_big_spend['big_spender'])\n",
    "plt.ylabel('Amount in Category')\n",
    "plt.xlabel('Small Spenders vs. Big Spenders')\n",
    "plt.title('Quantity of Small and Big Spenders')\n",
    "plt.show()\n"
   ]
  },
  {
   "cell_type": "code",
   "execution_count": 40,
   "metadata": {
    "collapsed": false
   },
   "outputs": [
    {
     "data": {
      "image/png": "[encoded data removed]",
      "text/plain": [
       "<matplotlib.figure.Figure at 0x116775f10>"
      ]
     },
     "metadata": {},
     "output_type": "display_data"
    }
   ],
   "source": [
    "#graphing the 10 biggest accounts\n",
    "df_big_spend = df_big_spend.reset_index()\n",
    "x = df_big_spend.user_id.head(10)\n",
    "y = df_big_spend.purchase_amount.head(10)\n",
    "\n",
    "#bar plots want a list of integers for their x-values\n",
    "x_r = range(10)\n",
    "\n",
    "\n",
    "plt.bar(x_r,y, align='center')\n",
    "\n",
    "#bring in the labels (names) and rotate the labels to make them easy to read\n",
    "plt.xticks(x_r,x, rotation = 70)\n",
    "plt.title('Big Spenders')\n",
    "plt.ylabel('Sum Total Spent')\n",
    "\n",
    "\n",
    "plt.show()"
   ]
  },
  {
   "cell_type": "code",
   "execution_count": null,
   "metadata": {
    "collapsed": true
   },
   "outputs": [],
   "source": []
  },
  {
   "cell_type": "code",
   "execution_count": 41,
   "metadata": {
    "collapsed": false
   },
   "outputs": [
    {
     "data": {
      "text/html": [
       "<div>\n",
       "<table border=\"1\" class=\"dataframe\">\n",
       "  <thead>\n",
       "    <tr style=\"text-align: right;\">\n",
       "      <th></th>\n",
       "      <th>purchase_amount</th>\n",
       "      <th>big_spender</th>\n",
       "    </tr>\n",
       "    <tr>\n",
       "      <th>user_id</th>\n",
       "      <th></th>\n",
       "      <th></th>\n",
       "    </tr>\n",
       "  </thead>\n",
       "  <tbody>\n",
       "    <tr>\n",
       "      <th>13610</th>\n",
       "      <td>24350.0</td>\n",
       "      <td>1</td>\n",
       "    </tr>\n",
       "    <tr>\n",
       "      <th>144610</th>\n",
       "      <td>17000.0</td>\n",
       "      <td>1</td>\n",
       "    </tr>\n",
       "    <tr>\n",
       "      <th>98550</th>\n",
       "      <td>15507.0</td>\n",
       "      <td>1</td>\n",
       "    </tr>\n",
       "    <tr>\n",
       "      <th>164930</th>\n",
       "      <td>14000.0</td>\n",
       "      <td>1</td>\n",
       "    </tr>\n",
       "    <tr>\n",
       "      <th>141340</th>\n",
       "      <td>13351.0</td>\n",
       "      <td>1</td>\n",
       "    </tr>\n",
       "    <tr>\n",
       "      <th>54170</th>\n",
       "      <td>13000.0</td>\n",
       "      <td>1</td>\n",
       "    </tr>\n",
       "    <tr>\n",
       "      <th>98790</th>\n",
       "      <td>12000.0</td>\n",
       "      <td>1</td>\n",
       "    </tr>\n",
       "    <tr>\n",
       "      <th>5330</th>\n",
       "      <td>10975.0</td>\n",
       "      <td>1</td>\n",
       "    </tr>\n",
       "    <tr>\n",
       "      <th>20200</th>\n",
       "      <td>10100.0</td>\n",
       "      <td>1</td>\n",
       "    </tr>\n",
       "    <tr>\n",
       "      <th>76440</th>\n",
       "      <td>10100.0</td>\n",
       "      <td>1</td>\n",
       "    </tr>\n",
       "    <tr>\n",
       "      <th>123480</th>\n",
       "      <td>9500.0</td>\n",
       "      <td>1</td>\n",
       "    </tr>\n",
       "    <tr>\n",
       "      <th>147510</th>\n",
       "      <td>9100.0</td>\n",
       "      <td>1</td>\n",
       "    </tr>\n",
       "    <tr>\n",
       "      <th>215460</th>\n",
       "      <td>9000.0</td>\n",
       "      <td>1</td>\n",
       "    </tr>\n",
       "    <tr>\n",
       "      <th>222740</th>\n",
       "      <td>9000.0</td>\n",
       "      <td>1</td>\n",
       "    </tr>\n",
       "    <tr>\n",
       "      <th>156280</th>\n",
       "      <td>8500.0</td>\n",
       "      <td>1</td>\n",
       "    </tr>\n",
       "    <tr>\n",
       "      <th>141430</th>\n",
       "      <td>8300.0</td>\n",
       "      <td>1</td>\n",
       "    </tr>\n",
       "    <tr>\n",
       "      <th>3880</th>\n",
       "      <td>8150.0</td>\n",
       "      <td>1</td>\n",
       "    </tr>\n",
       "    <tr>\n",
       "      <th>187390</th>\n",
       "      <td>8000.0</td>\n",
       "      <td>1</td>\n",
       "    </tr>\n",
       "    <tr>\n",
       "      <th>39920</th>\n",
       "      <td>7780.0</td>\n",
       "      <td>1</td>\n",
       "    </tr>\n",
       "    <tr>\n",
       "      <th>86850</th>\n",
       "      <td>7150.0</td>\n",
       "      <td>1</td>\n",
       "    </tr>\n",
       "    <tr>\n",
       "      <th>13340</th>\n",
       "      <td>7000.0</td>\n",
       "      <td>1</td>\n",
       "    </tr>\n",
       "    <tr>\n",
       "      <th>32800</th>\n",
       "      <td>6900.0</td>\n",
       "      <td>1</td>\n",
       "    </tr>\n",
       "    <tr>\n",
       "      <th>112000</th>\n",
       "      <td>6770.0</td>\n",
       "      <td>1</td>\n",
       "    </tr>\n",
       "    <tr>\n",
       "      <th>13880</th>\n",
       "      <td>6610.0</td>\n",
       "      <td>1</td>\n",
       "    </tr>\n",
       "    <tr>\n",
       "      <th>212980</th>\n",
       "      <td>6500.0</td>\n",
       "      <td>1</td>\n",
       "    </tr>\n",
       "  </tbody>\n",
       "</table>\n",
       "</div>"
      ],
      "text/plain": [
       "         purchase_amount  big_spender\n",
       "user_id                              \n",
       "13610            24350.0            1\n",
       "144610           17000.0            1\n",
       "98550            15507.0            1\n",
       "164930           14000.0            1\n",
       "141340           13351.0            1\n",
       "54170            13000.0            1\n",
       "98790            12000.0            1\n",
       "5330             10975.0            1\n",
       "20200            10100.0            1\n",
       "76440            10100.0            1\n",
       "123480            9500.0            1\n",
       "147510            9100.0            1\n",
       "215460            9000.0            1\n",
       "222740            9000.0            1\n",
       "156280            8500.0            1\n",
       "141430            8300.0            1\n",
       "3880              8150.0            1\n",
       "187390            8000.0            1\n",
       "39920             7780.0            1\n",
       "86850             7150.0            1\n",
       "13340             7000.0            1\n",
       "32800             6900.0            1\n",
       "112000            6770.0            1\n",
       "13880             6610.0            1\n",
       "212980            6500.0            1"
      ]
     },
     "execution_count": 41,
     "metadata": {},
     "output_type": "execute_result"
    }
   ],
   "source": [
    "#displaying the 25 biggest accounts\n",
    "df_big_spend.head(25).set_index('user_id')"
   ]
  },
  {
   "cell_type": "code",
   "execution_count": null,
   "metadata": {
    "collapsed": true
   },
   "outputs": [],
   "source": []
  }
 ],
 "metadata": {
  "kernelspec": {
   "display_name": "Python 2",
   "language": "python",
   "name": "python2"
  },
  "language_info": {
   "codemirror_mode": {
    "name": "ipython",
    "version": 2
   },
   "file_extension": ".py",
   "mimetype": "text/x-python",
   "name": "python",
   "nbconvert_exporter": "python",
   "pygments_lexer": "ipython2",
   "version": "2.7.13"
  }
 },
 "nbformat": 4,
 "nbformat_minor": 2
}
