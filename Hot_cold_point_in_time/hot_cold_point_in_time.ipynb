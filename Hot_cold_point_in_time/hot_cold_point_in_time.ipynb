{
 "cells": [
  {
   "cell_type": "markdown",
   "metadata": {},
   "source": [
    "## This does run, but I had to remove details so secret keys wouldn't be exposed\n"
   ]
  },
  {
   "cell_type": "code",
   "execution_count": 1,
   "metadata": {
    "collapsed": false
   },
   "outputs": [],
   "source": [
    "#bring in relevant libraries\n",
    "import pandas as pd\n",
    "import json\n",
    "from pandas.io.json import json_normalize\n",
    "import matplotlib.pyplot as plt\n",
    "import numpy as np\n",
    "import httplib, urllib\n",
    "import re\n",
    "import requests\n",
    "import datetime\n",
    "import time"
   ]
  },
  {
   "cell_type": "code",
   "execution_count": null,
   "metadata": {
    "collapsed": true
   },
   "outputs": [],
   "source": []
  },
  {
   "cell_type": "code",
   "execution_count": 1,
   "metadata": {
    "collapsed": false
   },
   "outputs": [
    {
     "ename": "TypeError",
     "evalue": "string indices must be integers",
     "output_type": "error",
     "traceback": [
      "\u001b[0;31m---------------------------------------------------------------------------\u001b[0m",
      "\u001b[0;31mTypeError\u001b[0m                                 Traceback (most recent call last)",
      "\u001b[0;32m<ipython-input-1-4b77fd61c44f>\u001b[0m in \u001b[0;36m<module>\u001b[0;34m()\u001b[0m\n\u001b[1;32m    177\u001b[0m \u001b[0;34m\u001b[0m\u001b[0m\n\u001b[1;32m    178\u001b[0m   \u001b[0;31m# Get all 2015 payments from all of the business's locations\u001b[0m\u001b[0;34m\u001b[0m\u001b[0;34m\u001b[0m\u001b[0m\n\u001b[0;32m--> 179\u001b[0;31m   \u001b[0mpayments\u001b[0m \u001b[0;34m=\u001b[0m \u001b[0mget_payments\u001b[0m\u001b[0;34m(\u001b[0m\u001b[0mget_location_ids\u001b[0m\u001b[0;34m(\u001b[0m\u001b[0;34m)\u001b[0m\u001b[0;34m)\u001b[0m\u001b[0;34m\u001b[0m\u001b[0m\n\u001b[0m\u001b[1;32m    180\u001b[0m   \u001b[0mpay_data\u001b[0m \u001b[0;34m=\u001b[0m \u001b[0mpayments\u001b[0m\u001b[0;34m\u001b[0m\u001b[0m\n\u001b[1;32m    181\u001b[0m   \u001b[0;31m# Print a sales summary report of the payments\u001b[0m\u001b[0;34m\u001b[0m\u001b[0;34m\u001b[0m\u001b[0m\n",
      "\u001b[0;32m<ipython-input-1-4b77fd61c44f>\u001b[0m in \u001b[0;36mget_location_ids\u001b[0;34m()\u001b[0m\n\u001b[1;32m     47\u001b[0m   \u001b[0mlocation_ids\u001b[0m \u001b[0;34m=\u001b[0m \u001b[0;34m[\u001b[0m\u001b[0;34m]\u001b[0m\u001b[0;34m\u001b[0m\u001b[0m\n\u001b[1;32m     48\u001b[0m   \u001b[0;32mfor\u001b[0m \u001b[0mlocation\u001b[0m \u001b[0;32min\u001b[0m \u001b[0mlocations\u001b[0m\u001b[0;34m:\u001b[0m\u001b[0;34m\u001b[0m\u001b[0m\n\u001b[0;32m---> 49\u001b[0;31m     \u001b[0mlocation_ids\u001b[0m\u001b[0;34m.\u001b[0m\u001b[0mappend\u001b[0m\u001b[0;34m(\u001b[0m\u001b[0mlocation\u001b[0m\u001b[0;34m[\u001b[0m\u001b[0;34m'id'\u001b[0m\u001b[0;34m]\u001b[0m\u001b[0;34m)\u001b[0m\u001b[0;34m\u001b[0m\u001b[0m\n\u001b[0m\u001b[1;32m     50\u001b[0m \u001b[0;34m\u001b[0m\u001b[0m\n\u001b[1;32m     51\u001b[0m   \u001b[0;32mreturn\u001b[0m \u001b[0mlocation_ids\u001b[0m\u001b[0;34m\u001b[0m\u001b[0m\n",
      "\u001b[0;31mTypeError\u001b[0m: string indices must be integers"
     ]
    }
   ],
   "source": [
    "import httplib, urllib, json, locale\n",
    "from urlparse import urlparse\n",
    "\n",
    "#!/usr/bin/python\n",
    "#\n",
    "# Demonstrates generating a payment report with the Square Connect API.\n",
    "#\n",
    "# This sample assumes all monetary amounts are in US dollars. You can alter the\n",
    "# format_money function to display amounts in other currency formats.\n",
    "#\n",
    "# To run this script from the command line:\n",
    "# python payments-report.py\n",
    "\n",
    "import httplib, urllib, json, locale\n",
    "from urlparse import urlparse\n",
    "\n",
    "\n",
    "# Get this from your application dashboard (https://connect.squareup.com/apps)\n",
    "# this is secret, don't share\n",
    "access_token = ''\n",
    "\n",
    "# Standard HTTP headers for every Connect API request\n",
    "request_headers = {'Authorization': 'Bearer ' + access_token,\n",
    "                   'Accept': 'application/json',\n",
    "                   'Content-Type': 'application/json'}\n",
    "  \n",
    "# The base URL for every Connect API request\n",
    "connection = httplib.HTTPSConnection('connect.squareup.com')\n",
    "                   \n",
    "# Uses the locale to format currency amounts correctly\n",
    "locale.setlocale(locale.LC_ALL, 'en_US')\n",
    "\n",
    "# Helper function to convert cent-based money amounts to dollars and cents\n",
    "def format_money(amount):\n",
    "  return locale.currency(amount / 100.)\n",
    "\n",
    "\n",
    "# Obtains all of the business's location IDs. Each location has its own collection of payments.\n",
    "def get_location_ids():\n",
    "  request_path = '/v1/me/locations'\n",
    "  connection.request('GET', request_path, '', request_headers)\n",
    "  response = connection.getresponse()\n",
    "\n",
    "  # Transform the JSON array of locations into a Python list\n",
    "  locations = json.loads(response.read())\n",
    "\n",
    "  location_ids = []\n",
    "  for location in locations:\n",
    "    location_ids.append(location['id'])\n",
    "\n",
    "  return location_ids\n",
    "\n",
    "\n",
    "# Downloads all of a business's payments from 2015\n",
    "def get_payments(location_ids):\n",
    "\n",
    "#get time right now, timezone should be correct if computer is synced properly\n",
    "  d = datetime.datetime.now()\n",
    "  \n",
    "    \n",
    "\n",
    "#turn current time into a bunch of strings that we can add together to form link parameters below\n",
    "  year,month,day,hour,minute,second = str(d.year),str(d.month),str(d.day),str(d.hour),str(d.minute),str(d.second)\n",
    "\n",
    "#if any of our dates/times are only one digit, we add a '0' to the front to make them suitable for URL \n",
    "  if len(day) == 1:\n",
    "        day = '0'+ day\n",
    "  if len(month) == 1:\n",
    "        month = '0'+ month\n",
    "  if len(hour) == 1:\n",
    "        hour = '0' + hour\n",
    "  if len(minute) == 1:\n",
    "        minute = '0' + minute\n",
    "  if len(second) == 1:\n",
    "        second = '0' + second\n",
    "  parameters = urllib.urlencode({'begin_time': year + '-' + month + '-' + day + 'T16:00:00',\n",
    "                                 'end_time'  : year + '-' + month + '-' + day + 'T' + hour + ':' + minute + ':' + second})\n",
    "  payments = []\n",
    "\n",
    "  # For each location...\n",
    "  for location_id in location_ids:\n",
    "\n",
    "    print 'Downloading payments for location with ID ' + location_id + '...'\n",
    "\n",
    "    request_path = '/v1/' + location_id + '/payments?' + parameters\n",
    "    more_results = True\n",
    "    \n",
    "    # ...as long as there are more payments to download from the location...\n",
    "    while more_results:\n",
    "\n",
    "      # ...send a GET request to /v1/LOCATION_ID/payments\n",
    "      connection.request('GET', request_path, '', request_headers)\n",
    "      response = connection.getresponse()\n",
    "\n",
    "      # Read the response body JSON into the cumulative list of results\n",
    "      payments = payments + json.loads(response.read())\n",
    "      \n",
    "      # Check whether pagination information is included in a response header, indicating more results\n",
    "      pagination_header = response.getheader('link', '')\n",
    "      if \"rel='next'\" not in pagination_header:\n",
    "        more_results = False\n",
    "      else:\n",
    "\n",
    "        # Extract the next batch URL from the header.\n",
    "        #\n",
    "        # Pagination headers have the following format:\n",
    "        # <https://connect.squareup.com/v1/LOCATION_ID/payments?batch_token=BATCH_TOKEN>;rel='next'\n",
    "        # This line extracts the URL from the angle brackets surrounding it.\n",
    "        next_batch_url = urlparse(pagination_header.split('<')[1].split('>')[0])\n",
    "\n",
    "        request_path = next_batch_url.path + '?' + next_batch_url.query\n",
    "\n",
    "  # Remove potential duplicate values from the list of payments\n",
    "  seen_payment_ids = set()\n",
    "  unique_payments = []\n",
    "\n",
    "  for payment in payments:\n",
    "    if payment['id'] in seen_payment_ids:\n",
    "      continue\n",
    "    seen_payment_ids.add(payment['id'])\n",
    "    unique_payments.append(payment)\n",
    "\n",
    "  return unique_payments\n",
    "\n",
    "'''\n",
    "# Prints a sales report based on a list of payments\n",
    "def print_sales_report(payments):\n",
    "\n",
    "   # Variables for holding cumulative values of various monetary amounts\n",
    "  collected_money = taxes = tips = discounts = processing_fees = \\\n",
    "  returned_processing_fees = net_money = refunds = 0\n",
    "\n",
    "  # Add appropriate values to each cumulative variable\n",
    "  for payment in payments:\n",
    "\n",
    "    collected_money = collected_money + payment['total_collected_money']['amount']\n",
    "    taxes           = taxes           + payment['tax_money']['amount']\n",
    "    tips            = tips            + payment['tip_money']['amount']\n",
    "    discounts       = discounts       + payment['discount_money']['amount']\n",
    "    processing_fees = processing_fees + payment['processing_fee_money']['amount']\n",
    "    net_money       = net_money       + payment['net_total_money']['amount']\n",
    "    refunds         = refunds         + payment['refunded_money']['amount']\n",
    "\n",
    "\n",
    "    # When a refund is applied to a credit card payment, Square returns to the merchant a percentage \n",
    "    # of the processing fee corresponding to the refunded portion of the payment. This amount\n",
    "    # is not currently returned by the Connect API, but we can calculate it as shown:\n",
    "\n",
    "    # If a processing fee was applied to the payment AND some portion of the payment was refunded...\n",
    "    if payment['processing_fee_money']['amount'] < 0 and payment['refunded_money']['amount'] < 0:\n",
    "\n",
    "      # ...calculate the percentage of the payment that was refunded...\n",
    "      percentage_refunded = payment['refunded_money']['amount'] / float(payment['total_collected_money']['amount'])\n",
    "\n",
    "      # ...and multiply that percentage by the original processing fee\n",
    "      returned_processing_fees = returned_processing_fees + (payment['processing_fee_money']['amount'] * percentage_refunded)\n",
    "\n",
    "  # Calculate the amount of pre-tax, pre-tip money collected\n",
    "  base_purchases = collected_money - taxes - tips\n",
    "  \n",
    "  # Print a sales report similar to the Sales Summary in the merchant dashboard.\n",
    "  print ''\n",
    "  print '==SALES REPORT FOR 2015=='\n",
    "  print 'Gross Sales:       ' + format_money(base_purchases - discounts)\n",
    "  print 'Discounts:         ' + format_money(discounts)\n",
    "  print 'Net Sales:         ' + format_money(base_purchases)\n",
    "  print 'Tax collected:     ' + format_money(taxes)\n",
    "  print 'Tips collected:    ' + format_money(tips)\n",
    "  print 'Total collected:   ' + format_money(base_purchases + taxes + tips)\n",
    "  print 'Fees:              ' + format_money(processing_fees)\n",
    "  print 'Refunds:           ' + format_money(refunds)\n",
    "  print 'Fees returned:     ' + format_money(returned_processing_fees)\n",
    "  print 'Net total:         ' + format_money(net_money + refunds + returned_processing_fees)\n",
    "'''    \n",
    "\n",
    "if __name__ == '__main__':\n",
    "\n",
    "  # Get all 2015 payments from all of the business's locations\n",
    "  payments = get_payments(get_location_ids())\n",
    "  pay_data = payments\n",
    "  # Print a sales summary report of the payments\n",
    "  #print_sales_report(payments)\n",
    "\n",
    "  connection.close()\n"
   ]
  },
  {
   "cell_type": "code",
   "execution_count": 22,
   "metadata": {
    "collapsed": false
   },
   "outputs": [],
   "source": [
    "#list items, list payments\n",
    "\n",
    "# All requests to the Square Connect API require an access token in an\n",
    "# Authorization header. Specify your application's personal access token here\n",
    "# (available from https://connect.squareup.com/apps)\n",
    "access_token = ''\n",
    "\n",
    "# In addition to an Authorization header, requests to the Connect API should\n",
    "# include the indicated Accept and Content-Type headers.\n",
    "request_headers = {'Authorization': 'Bearer ' + access_token,\n",
    "               'Accept':        'application/json',\n",
    "               'Content-Type':  'application/json'}\n",
    "\n",
    "# Send a GET request to the ListLocations endpoint and obtain the response.\n",
    "connection = httplib.HTTPSConnection('connect.squareup.com')\n",
    "request_path = '/v1/me/items'\n",
    "connection.request('GET', request_path, '', request_headers)\n",
    "response = connection.getresponse()\n",
    "\n",
    "\n",
    "\n",
    "# Convert the returned JSON body into an array of locations you can work with.\n",
    "items_data = json.loads(response.read())\n",
    "\n",
    "# Pretty-print the locations array.\n",
    "#locations = json.dumps(locations, indent=2, separators=(',',': '))"
   ]
  },
  {
   "cell_type": "code",
   "execution_count": 23,
   "metadata": {
    "collapsed": false,
    "scrolled": true
   },
   "outputs": [],
   "source": [
    "\n",
    "#making empty lists to fill with JSON pulled data\n",
    "name_list = []\n",
    "quant_list = []\n",
    "quant_id_list = []\n",
    "time_list = []\n",
    "#pulling in item name,quantity purchased for the day, id of item, and time of purchase\n",
    "for i in pay_data:\n",
    "    for n in range(10):\n",
    "        #all of our entries should be complete every time, if not, we'll add a nan\n",
    "        try:\n",
    "            name_list.append(i['itemizations'][n]['name'])\n",
    "        except:\n",
    "            name_list.append(np.nan)\n",
    "        try:\n",
    "            quant_list.append(i['itemizations'][n]['quantity'])\n",
    "        except:\n",
    "            quant_list.append(np.nan)\n",
    "        try:\n",
    "            quant_id_list.append(i['itemizations'][n]['item_detail']['item_id'])\n",
    "        except:\n",
    "            quant_id_list.append(np.nan)\n",
    "        try:\n",
    "            time_list.append(i['created_at'])\n",
    "        except:\n",
    "            time_list.append(np.nan)\n",
    "\n",
    "        \n",
    "        \n",
    "id_list = []\n",
    "url_list = []\n",
    "names_list = []\n",
    "price_list = []\n",
    "#pulling in item, id, price of item, and image url\n",
    "for m in items_data:\n",
    "    #try and pull in data, if it doesn't exist for the instance, add a nan to be handled later\n",
    "    try:      \n",
    "        names_list.append(m['name'])\n",
    "    except:\n",
    "        names_list.append(np.nan)\n",
    "    try:\n",
    "        id_list.append(m['id'])\n",
    "    except:\n",
    "        id_list.append(np.nan)\n",
    "    try:\n",
    "        url_list.append(m['master_image']['url'])\n",
    "    except:\n",
    "        url_list.append(np.nan)\n",
    "    try:\n",
    "        price_list.append(m['variations'][0]['price_money']['amount'])\n",
    "    except:\n",
    "        price_list.append(np.nan)\n",
    "        \n",
    "\n"
   ]
  },
  {
   "cell_type": "code",
   "execution_count": 24,
   "metadata": {
    "collapsed": false
   },
   "outputs": [],
   "source": [
    "#create data frame for each item on the menu and all the relevant information about it\n",
    "df2 = pd.DataFrame({'id':id_list,'url':url_list, 'name':names_list, 'price':price_list})\n",
    "df2.price = df2.price/100"
   ]
  },
  {
   "cell_type": "code",
   "execution_count": 25,
   "metadata": {
    "collapsed": false
   },
   "outputs": [],
   "source": [
    "#the items without a url are not typical menu items, so we get rid of those entries.\n",
    "df2 = df2.dropna(subset = ['name']).reset_index()\n"
   ]
  },
  {
   "cell_type": "code",
   "execution_count": 26,
   "metadata": {
    "collapsed": false
   },
   "outputs": [],
   "source": [
    "#Compile the payment data into a dataframe\n",
    "df = pd.DataFrame({'quantity':quant_list,'id':quant_id_list,'item_name':name_list,'time_of_sale':time_list})\n"
   ]
  },
  {
   "cell_type": "code",
   "execution_count": 27,
   "metadata": {
    "collapsed": false
   },
   "outputs": [],
   "source": [
    "#mergethe dataframes on ID, but maintain\n",
    "fin_df = df.merge(df2, on = 'id', how = 'outer')"
   ]
  },
  {
   "cell_type": "code",
   "execution_count": 28,
   "metadata": {
    "collapsed": false
   },
   "outputs": [],
   "source": [
    "#we aren't interest in all of the columns from the original two dataframe, so we take the ones we want\n",
    "fin_df = fin_df[['name','quantity','id','price','url','time_of_sale']]"
   ]
  },
  {
   "cell_type": "code",
   "execution_count": 29,
   "metadata": {
    "collapsed": false,
    "scrolled": true
   },
   "outputs": [],
   "source": [
    "#we are turning quantity into a numeric so we can aggregate it to get totala quantity sold in our group by below\n",
    "fin_df.quantity = pd.to_numeric(fin_df.loc[:,'quantity'])\n",
    "fin_df = fin_df[fin_df.name.str.contains(\"drink\") == False]\n",
    "fin_df = fin_df[fin_df.name.str.contains(\"Drink\") == False]"
   ]
  },
  {
   "cell_type": "code",
   "execution_count": 30,
   "metadata": {
    "collapsed": false
   },
   "outputs": [],
   "source": [
    "#groupby quantity to get total sold for each product\n",
    "fin_df = fin_df.groupby(['name','id','price','url']).sum().reset_index().sort_values('quantity', ascending = False)"
   ]
  },
  {
   "cell_type": "code",
   "execution_count": 31,
   "metadata": {
    "collapsed": false
   },
   "outputs": [],
   "source": [
    "fin_df = fin_df.reset_index(drop=True)"
   ]
  },
  {
   "cell_type": "code",
   "execution_count": null,
   "metadata": {
    "collapsed": false
   },
   "outputs": [],
   "source": []
  },
  {
   "cell_type": "code",
   "execution_count": 32,
   "metadata": {
    "collapsed": false
   },
   "outputs": [],
   "source": [
    "#get name and quantity to faciliate plotting\n",
    "x = fin_df.name\n",
    "y = fin_df.quantity"
   ]
  },
  {
   "cell_type": "code",
   "execution_count": 33,
   "metadata": {
    "collapsed": false
   },
   "outputs": [
    {
     "data": {
      "image/png": "[encoded data removed]",
      "text/plain": [
       "<matplotlib.figure.Figure at 0x10fd194d0>"
      ]
     },
     "metadata": {},
     "output_type": "display_data"
    }
   ],
   "source": [
    "#bar plots want a list of integers for their x-values\n",
    "x_r = range(len(x))\n",
    "\n",
    "\n",
    "plt.bar(x_r,y, align='center')\n",
    "\n",
    "#bring in the labels (names) and rotate the labels to make them easy to read\n",
    "plt.xticks(x_r,x, rotation = 70)\n",
    "plt.title('Product Movement')\n",
    "plt.ylabel('Quantity Purchased')\n",
    "\n",
    "\n",
    "plt.show()"
   ]
  },
  {
   "cell_type": "code",
   "execution_count": 34,
   "metadata": {
    "collapsed": false
   },
   "outputs": [
    {
     "name": "stdout",
     "output_type": "stream",
     "text": [
      "Hot Products:\n",
      "Combo #1\n",
      "Combo #2\n",
      "Combo #3\n"
     ]
    }
   ],
   "source": [
    "print('Hot Products:\\n{}\\n{}\\n{}' .format(x[0],x[1],x[2]))"
   ]
  },
  {
   "cell_type": "code",
   "execution_count": 35,
   "metadata": {
    "collapsed": false
   },
   "outputs": [
    {
     "name": "stdout",
     "output_type": "stream",
     "text": [
      "Slow Products:\n",
      "8        Med 7pcs KFC\n",
      "9         Sm 4pcs KFC\n",
      "10    Tofu Balls 3pcs\n",
      "Name: name, dtype: object\n"
     ]
    }
   ],
   "source": [
    "print('Slow Products:\\n{}' .format(x[-3:]))"
   ]
  },
  {
   "cell_type": "code",
   "execution_count": 36,
   "metadata": {
    "collapsed": false
   },
   "outputs": [],
   "source": [
    "df['time_of_sale'] = pd.to_datetime(df['time_of_sale'])\n",
    "\n",
    "#function to determine whether the sale was around breakfast, lunch, or dinner/evening\n",
    "def t_o_d(time):\n",
    "    if time.hour < 12 and time.hour >= 5:\n",
    "        return 'Breakfast'\n",
    "    if time.hour >= 11 and time.hour < 17:\n",
    "         return 'Lunch'\n",
    "    if time.hour >= 17 or time.hour < 5:\n",
    "         return 'Dinner'\n",
    "        \n",
    "#function to determine whether the sale was on a weekend or weekday        \n",
    "def week_weekend (time):\n",
    "    if time.weekday() != 'saturday' and time.weekday() != 'sunday':\n",
    "        return 'weekday'\n",
    "    else:\n",
    "        return 'weekend'"
   ]
  },
  {
   "cell_type": "code",
   "execution_count": 37,
   "metadata": {
    "collapsed": false
   },
   "outputs": [],
   "source": [
    "#if quantity is NaN then we know its a worthless entry, so we drop it\n",
    "df = df.dropna(subset=['quantity'])"
   ]
  },
  {
   "cell_type": "code",
   "execution_count": 38,
   "metadata": {
    "collapsed": false
   },
   "outputs": [],
   "source": [
    "#apply our time of day function to our time of sale function\n",
    "df['time_of_day'] = df.time_of_sale.apply(t_o_d)"
   ]
  },
  {
   "cell_type": "code",
   "execution_count": 39,
   "metadata": {
    "collapsed": false
   },
   "outputs": [],
   "source": [
    "#apply the weekday/weekend function\n",
    "df['week_weekend'] = df.time_of_sale.apply(week_weekend)"
   ]
  },
  {
   "cell_type": "code",
   "execution_count": null,
   "metadata": {
    "collapsed": true
   },
   "outputs": [],
   "source": []
  },
  {
   "cell_type": "code",
   "execution_count": null,
   "metadata": {
    "collapsed": true
   },
   "outputs": [],
   "source": []
  }
 ],
 "metadata": {
  "kernelspec": {
   "display_name": "Python 2",
   "language": "python",
   "name": "python2"
  },
  "language_info": {
   "codemirror_mode": {
    "name": "ipython",
    "version": 2
   },
   "file_extension": ".py",
   "mimetype": "text/x-python",
   "name": "python",
   "nbconvert_exporter": "python",
   "pygments_lexer": "ipython2",
   "version": "2.7.13"
  }
 },
 "nbformat": 4,
 "nbformat_minor": 2
}
