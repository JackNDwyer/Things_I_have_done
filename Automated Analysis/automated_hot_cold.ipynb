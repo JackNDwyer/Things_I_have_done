{
 "cells": [
  {
   "cell_type": "markdown",
   "metadata": {},
   "source": [
    "## removed information to protect client privacy"
   ]
  },
  {
   "cell_type": "code",
   "execution_count": 43,
   "metadata": {
    "collapsed": false
   },
   "outputs": [],
   "source": [
    "#bring in relevant libraries\n",
    "import pandas as pd\n",
    "from pandas.io.json import json_normalize\n",
    "import matplotlib.pyplot as plt\n",
    "import numpy as np\n",
    "import re\n",
    "import requests\n",
    "import datetime\n",
    "from datetime import datetime, timedelta\n",
    "import time\n",
    "import httplib, urllib, json, locale\n",
    "from urlparse import urlparse"
   ]
  },
  {
   "cell_type": "code",
   "execution_count": 4,
   "metadata": {
    "collapsed": false
   },
   "outputs": [
    {
     "ename": "TypeError",
     "evalue": "string indices must be integers",
     "output_type": "error",
     "traceback": [
      "\u001b[0;31m---------------------------------------------------------------------------\u001b[0m",
      "\u001b[0;31mTypeError\u001b[0m                                 Traceback (most recent call last)",
      "\u001b[0;32m<ipython-input-4-fd48f853acc8>\u001b[0m in \u001b[0;36m<module>\u001b[0;34m()\u001b[0m\n\u001b[1;32m    186\u001b[0m \u001b[0;34m\u001b[0m\u001b[0m\n\u001b[1;32m    187\u001b[0m   \u001b[0;31m# Get all 2015 payments from all of the business's locations\u001b[0m\u001b[0;34m\u001b[0m\u001b[0;34m\u001b[0m\u001b[0m\n\u001b[0;32m--> 188\u001b[0;31m   \u001b[0mpayments\u001b[0m \u001b[0;34m=\u001b[0m \u001b[0mget_payments\u001b[0m\u001b[0;34m(\u001b[0m\u001b[0mget_location_ids\u001b[0m\u001b[0;34m(\u001b[0m\u001b[0;34m)\u001b[0m\u001b[0;34m)\u001b[0m\u001b[0;34m\u001b[0m\u001b[0m\n\u001b[0m\u001b[1;32m    189\u001b[0m   \u001b[0mpay_data\u001b[0m \u001b[0;34m=\u001b[0m \u001b[0mpayments\u001b[0m\u001b[0;34m\u001b[0m\u001b[0m\n\u001b[1;32m    190\u001b[0m   \u001b[0;31m# Print a sales summary report of the payments\u001b[0m\u001b[0;34m\u001b[0m\u001b[0;34m\u001b[0m\u001b[0m\n",
      "\u001b[0;32m<ipython-input-4-fd48f853acc8>\u001b[0m in \u001b[0;36mget_location_ids\u001b[0;34m()\u001b[0m\n\u001b[1;32m     46\u001b[0m   \u001b[0mlocation_ids\u001b[0m \u001b[0;34m=\u001b[0m \u001b[0;34m[\u001b[0m\u001b[0;34m]\u001b[0m\u001b[0;34m\u001b[0m\u001b[0m\n\u001b[1;32m     47\u001b[0m   \u001b[0;32mfor\u001b[0m \u001b[0mlocation\u001b[0m \u001b[0;32min\u001b[0m \u001b[0mlocations\u001b[0m\u001b[0;34m:\u001b[0m\u001b[0;34m\u001b[0m\u001b[0m\n\u001b[0;32m---> 48\u001b[0;31m     \u001b[0mlocation_ids\u001b[0m\u001b[0;34m.\u001b[0m\u001b[0mappend\u001b[0m\u001b[0;34m(\u001b[0m\u001b[0mlocation\u001b[0m\u001b[0;34m[\u001b[0m\u001b[0;34m'id'\u001b[0m\u001b[0;34m]\u001b[0m\u001b[0;34m)\u001b[0m\u001b[0;34m\u001b[0m\u001b[0m\n\u001b[0m\u001b[1;32m     49\u001b[0m \u001b[0;34m\u001b[0m\u001b[0m\n\u001b[1;32m     50\u001b[0m   \u001b[0;32mreturn\u001b[0m \u001b[0mlocation_ids\u001b[0m\u001b[0;34m\u001b[0m\u001b[0m\n",
      "\u001b[0;31mTypeError\u001b[0m: string indices must be integers"
     ]
    }
   ],
   "source": [
    "\n",
    "\n",
    "#!/usr/bin/python\n",
    "#\n",
    "# Generating a payment report with the Square Connect API.\n",
    "\n",
    "import httplib, urllib, json, locale\n",
    "from urlparse import urlparse\n",
    "\n",
    "\n",
    "# Get this from your application dashboard (https://connect.squareup.com/apps)\n",
    "access_token = ''\n",
    "\n",
    "# Standard HTTP headers for every Connect API request\n",
    "request_headers = {'Authorization': 'Bearer ' + access_token,\n",
    "                   'Accept': 'application/json',\n",
    "                   'Content-Type': 'application/json'}\n",
    "  \n",
    "# The base URL for every Connect API request\n",
    "connection = httplib.HTTPSConnection('connect.squareup.com')\n",
    "                   \n",
    "# Uses the locale to format currency amounts correctly\n",
    "locale.setlocale(locale.LC_ALL, 'en_US')\n",
    "\n",
    "# Helper function to convert cent-based money amounts to dollars and cents\n",
    "def format_money(amount):\n",
    "  return locale.currency(amount / 100.)\n",
    "\n",
    "\n",
    "# Obtains all of the business's location IDs. Each location has its own collection of payments.\n",
    "def get_location_ids():\n",
    "  request_path = '/v1/me/locations'\n",
    "  connection.request('GET', request_path, '', request_headers)\n",
    "  response = connection.getresponse()\n",
    "\n",
    "  # Transform the JSON array of locations into a Python list\n",
    "  locations = json.loads(response.read())\n",
    "\n",
    "  location_ids = []\n",
    "  for location in locations:\n",
    "    location_ids.append(location['id'])\n",
    "\n",
    "  return location_ids\n",
    "\n",
    "\n",
    "# Downloads all of a business's payments\n",
    "def get_payments(location_ids):\n",
    "\n",
    "#get time right now, timezone should be correct if computer is synced properly\n",
    "  d = datetime.now()\n",
    "  diff_time = datetime.now() - timedelta(days=1)\n",
    "  \n",
    "\n",
    "  #time_now\n",
    "  # Make sure to URL-encode all parameters\n",
    "\n",
    "#turn current time into a bunch of strings that we can add together to form link parameters below\n",
    "  year,month,day,hour,minute,second = str(d.year),str(d.month),str(d.day),str(d.hour),str(d.minute),str(d.second)\n",
    "  year_diff,month_diff,day_diff,hour_diff,minute_diff,second_diff = str(diff_time.year),str(diff_time.month),str(diff_time.day),str(diff_time.hour),str(diff_time.minute),str(diff_time.second)\n",
    "\n",
    "#if any of our dates/times are only one digit, we add a '0' to the front to make them suitable for URL \n",
    "  if len(day) == 1:\n",
    "        day = '0'+ day\n",
    "  if len(month) == 1:\n",
    "        month = '0'+ month\n",
    "  if len(hour) == 1:\n",
    "        hour = '0' + hour\n",
    "  if len(minute) == 1:\n",
    "        minute = '0' + minute\n",
    "  if len(second) == 1:\n",
    "        second = '0' + second\n",
    "        \n",
    "  if len(day_diff) == 1:\n",
    "        day_diff = '0'+ day_diff\n",
    "  if len(month_diff) == 1:\n",
    "        month_diff = '0'+ month_diff\n",
    " \n",
    "  parameters = urllib.urlencode({'begin_time': year_diff + '-' + month_diff + '-' + day_diff + 'T15:00:00',\n",
    "                                 'end_time': year + '-' + month + '-' + day + 'T15:00:00'})\n",
    "  payments = []\n",
    "\n",
    "  # For each location...\n",
    "  for location_id in location_ids:\n",
    "\n",
    "    print 'Downloading payments for location with ID ' + location_id + '...'\n",
    "\n",
    "    request_path = '/v1/' + location_id + '/payments?' + parameters\n",
    "    more_results = True\n",
    "    \n",
    "    # ...as long as there are more payments to download from the location...\n",
    "    while more_results:\n",
    "\n",
    "      # ...send a GET request to /v1/LOCATION_ID/payments\n",
    "      connection.request('GET', request_path, '', request_headers)\n",
    "      response = connection.getresponse()\n",
    "\n",
    "      # Read the response body JSON into the cumulative list of results\n",
    "      payments = payments + json.loads(response.read())\n",
    "      \n",
    "      # Check whether pagination information is included in a response header, indicating more results\n",
    "      pagination_header = response.getheader('link', '')\n",
    "      if \"rel='next'\" not in pagination_header:\n",
    "        more_results = False\n",
    "      else:\n",
    "\n",
    "        # Extract the next batch URL from the header.\n",
    "        #\n",
    "        # Pagination headers have the following format:\n",
    "        # <https://connect.squareup.com/v1/LOCATION_ID/payments?batch_token=BATCH_TOKEN>;rel='next'\n",
    "        # This line extracts the URL from the angle brackets surrounding it.\n",
    "        next_batch_url = urlparse(pagination_header.split('<')[1].split('>')[0])\n",
    "\n",
    "        request_path = next_batch_url.path + '?' + next_batch_url.query\n",
    "\n",
    "  # Remove potential duplicate values from the list of payments\n",
    "  seen_payment_ids = set()\n",
    "  unique_payments = []\n",
    "\n",
    "  for payment in payments:\n",
    "    if payment['id'] in seen_payment_ids:\n",
    "      continue\n",
    "    seen_payment_ids.add(payment['id'])\n",
    "    unique_payments.append(payment)\n",
    "\n",
    "  return unique_payments\n",
    "\n",
    "\n",
    "\n",
    "if __name__ == '__main__':\n",
    "\n",
    "  # Get all 2015 payments from all of the business's locations\n",
    "  payments = get_payments(get_location_ids())\n",
    "  pay_data = payments\n",
    "  # Print a sales summary report of the payments\n",
    "  #print_sales_report(payments)\n",
    "\n",
    "  connection.close()\n"
   ]
  },
  {
   "cell_type": "code",
   "execution_count": 5,
   "metadata": {
    "collapsed": false
   },
   "outputs": [
    {
     "ename": "TypeError",
     "evalue": "string indices must be integers",
     "output_type": "error",
     "traceback": [
      "\u001b[0;31m---------------------------------------------------------------------------\u001b[0m",
      "\u001b[0;31mTypeError\u001b[0m                                 Traceback (most recent call last)",
      "\u001b[0;32m<ipython-input-5-3f926154723a>\u001b[0m in \u001b[0;36m<module>\u001b[0;34m()\u001b[0m\n\u001b[1;32m    133\u001b[0m \u001b[0;34m\u001b[0m\u001b[0m\n\u001b[1;32m    134\u001b[0m   \u001b[0;31m# Get all 2015 payments from all of the business's locations\u001b[0m\u001b[0;34m\u001b[0m\u001b[0;34m\u001b[0m\u001b[0m\n\u001b[0;32m--> 135\u001b[0;31m   \u001b[0mpayments\u001b[0m \u001b[0;34m=\u001b[0m \u001b[0mget_payments\u001b[0m\u001b[0;34m(\u001b[0m\u001b[0mget_location_ids\u001b[0m\u001b[0;34m(\u001b[0m\u001b[0;34m)\u001b[0m\u001b[0;34m)\u001b[0m\u001b[0;34m\u001b[0m\u001b[0m\n\u001b[0m\u001b[1;32m    136\u001b[0m   \u001b[0mpay_data_week\u001b[0m \u001b[0;34m=\u001b[0m \u001b[0mpayments\u001b[0m\u001b[0;34m\u001b[0m\u001b[0m\n\u001b[1;32m    137\u001b[0m   \u001b[0;31m# Print a sales summary report of the payments\u001b[0m\u001b[0;34m\u001b[0m\u001b[0;34m\u001b[0m\u001b[0m\n",
      "\u001b[0;32m<ipython-input-5-3f926154723a>\u001b[0m in \u001b[0;36mget_location_ids\u001b[0;34m()\u001b[0m\n\u001b[1;32m     44\u001b[0m   \u001b[0mlocation_ids\u001b[0m \u001b[0;34m=\u001b[0m \u001b[0;34m[\u001b[0m\u001b[0;34m]\u001b[0m\u001b[0;34m\u001b[0m\u001b[0m\n\u001b[1;32m     45\u001b[0m   \u001b[0;32mfor\u001b[0m \u001b[0mlocation\u001b[0m \u001b[0;32min\u001b[0m \u001b[0mlocations\u001b[0m\u001b[0;34m:\u001b[0m\u001b[0;34m\u001b[0m\u001b[0m\n\u001b[0;32m---> 46\u001b[0;31m     \u001b[0mlocation_ids\u001b[0m\u001b[0;34m.\u001b[0m\u001b[0mappend\u001b[0m\u001b[0;34m(\u001b[0m\u001b[0mlocation\u001b[0m\u001b[0;34m[\u001b[0m\u001b[0;34m'id'\u001b[0m\u001b[0;34m]\u001b[0m\u001b[0;34m)\u001b[0m\u001b[0;34m\u001b[0m\u001b[0m\n\u001b[0m\u001b[1;32m     47\u001b[0m \u001b[0;34m\u001b[0m\u001b[0m\n\u001b[1;32m     48\u001b[0m   \u001b[0;32mreturn\u001b[0m \u001b[0mlocation_ids\u001b[0m\u001b[0;34m\u001b[0m\u001b[0m\n",
      "\u001b[0;31mTypeError\u001b[0m: string indices must be integers"
     ]
    }
   ],
   "source": [
    "#!/usr/bin/python\n",
    "#\n",
    "# Generating a payment report with the Square Connect API.\n",
    "#\n",
    "\n",
    "\n",
    "import httplib, urllib, json, locale\n",
    "from urlparse import urlparse\n",
    "\n",
    "\n",
    "# Get this from your application dashboard (https://connect.squareup.com/apps)\n",
    "# this is secret, don't share\n",
    "access_token = ''\n",
    "\n",
    "# Standard HTTP headers for every Connect API request\n",
    "request_headers = {'Authorization': 'Bearer ' + access_token,\n",
    "                   'Accept': 'application/json',\n",
    "                   'Content-Type': 'application/json'}\n",
    "  \n",
    "# The base URL for every Connect API request\n",
    "connection = httplib.HTTPSConnection('connect.squareup.com')\n",
    "                   \n",
    "# Uses the locale to format currency amounts correctly\n",
    "locale.setlocale(locale.LC_ALL, 'en_US')\n",
    "\n",
    "# Helper function to convert cent-based money amounts to dollars and cents\n",
    "def format_money(amount):\n",
    "  return locale.currency(amount / 100.)\n",
    "\n",
    "\n",
    "# Obtains all of the business's location IDs. Each location has its own collection of payments.\n",
    "def get_location_ids():\n",
    "  request_path = '/v1/me/locations'\n",
    "  connection.request('GET', request_path, '', request_headers)\n",
    "  response = connection.getresponse()\n",
    "\n",
    "  # Transform the JSON array of locations into a Python list\n",
    "  locations = json.loads(response.read())\n",
    "\n",
    "  location_ids = []\n",
    "  for location in locations:\n",
    "    location_ids.append(location['id'])\n",
    "\n",
    "  return location_ids\n",
    "\n",
    "\n",
    "# Downloads all of a business's payments\n",
    "def get_payments(location_ids):\n",
    "\n",
    "#get time right now, timezone should be correct if computer is synced properly\n",
    "  d = datetime.now()\n",
    "  diff_time = datetime.now() - timedelta(weeks=1)\n",
    "  \n",
    "# Make sure to URL-encode all parameters\n",
    "\n",
    "#turn current time into a bunch of strings that we can add together to form link parameters below\n",
    "  year,month,day,hour,minute,second = str(d.year),str(d.month),str(d.day),str(d.hour),str(d.minute),str(d.second)\n",
    "  year_diff,month_diff,day_diff,hour_diff,minute_diff,second_diff = str(diff_time.year),str(diff_time.month),str(diff_time.day),str(diff_time.hour),str(diff_time.minute),str(diff_time.second)\n",
    "\n",
    "#if any of our dates/times are only one digit, we add a '0' to the front to make them suitable for URL \n",
    "  if len(day) == 1:\n",
    "        day = '0'+ day\n",
    "  if len(month) == 1:\n",
    "        month = '0'+ month\n",
    "  if len(hour) == 1:\n",
    "        hour = '0' + hour\n",
    "  if len(minute) == 1:\n",
    "        minute = '0' + minute\n",
    "  if len(second) == 1:\n",
    "        second = '0' + second\n",
    "        \n",
    "  if len(day_diff) == 1:\n",
    "        day_diff = '0'+ day_diff\n",
    "  if len(month_diff) == 1:\n",
    "        month_diff = '0'+ month_diff\n",
    " \n",
    "  parameters = urllib.urlencode({'begin_time': year_diff + '-' + month_diff + '-' + day_diff + 'T15:00:00',\n",
    "                                 'end_time': year + '-' + month + '-' + day + 'T15:00:00'})\n",
    "  payments = []\n",
    "\n",
    "  # For each location...\n",
    "  for location_id in location_ids:\n",
    "\n",
    "    print 'Downloading payments for location with ID ' + location_id + '...'\n",
    "\n",
    "    request_path = '/v1/' + location_id + '/payments?' + parameters\n",
    "    more_results = True\n",
    "    \n",
    "    # ...as long as there are more payments to download from the location...\n",
    "    while more_results:\n",
    "\n",
    "      # ...send a GET request to /v1/LOCATION_ID/payments\n",
    "      connection.request('GET', request_path, '', request_headers)\n",
    "      response = connection.getresponse()\n",
    "\n",
    "      # Read the response body JSON into the cumulative list of results\n",
    "      payments = payments + json.loads(response.read())\n",
    "      \n",
    "      # Check whether pagination information is included in a response header, indicating more results\n",
    "      pagination_header = response.getheader('link', '')\n",
    "      if \"rel='next'\" not in pagination_header:\n",
    "        more_results = False\n",
    "      else:\n",
    "\n",
    "        # Extract the next batch URL from the header.\n",
    "        #\n",
    "        # Pagination headers have the following format:\n",
    "        # <https://connect.squareup.com/v1/LOCATION_ID/payments?batch_token=BATCH_TOKEN>;rel='next'\n",
    "        # This line extracts the URL from the angle brackets surrounding it.\n",
    "        next_batch_url = urlparse(pagination_header.split('<')[1].split('>')[0])\n",
    "\n",
    "        request_path = next_batch_url.path + '?' + next_batch_url.query\n",
    "\n",
    "  # Remove potential duplicate values from the list of payments\n",
    "  seen_payment_ids = set()\n",
    "  unique_payments = []\n",
    "\n",
    "  for payment in payments:\n",
    "    if payment['id'] in seen_payment_ids:\n",
    "      continue\n",
    "    seen_payment_ids.add(payment['id'])\n",
    "    unique_payments.append(payment)\n",
    "\n",
    "  return unique_payments\n",
    "\n",
    "   \n",
    "\n",
    "if __name__ == '__main__':\n",
    "\n",
    "  # Get all 2015 payments from all of the business's locations\n",
    "  payments = get_payments(get_location_ids())\n",
    "  pay_data_week = payments\n",
    "  # Print a sales summary report of the payments\n",
    "  #print_sales_report(payments)\n",
    "\n",
    "  connection.close()"
   ]
  },
  {
   "cell_type": "code",
   "execution_count": 46,
   "metadata": {
    "collapsed": false
   },
   "outputs": [],
   "source": [
    "#list items, list payments\n",
    "\n",
    "# All requests to the Square Connect API require an access token in an\n",
    "# Authorization header. Specify your application's personal access token here\n",
    "# (available from https://connect.squareup.com/apps)\n",
    "access_token = ''\n",
    "\n",
    "# In addition to an Authorization header, requests to the Connect API should\n",
    "# include the indicated Accept and Content-Type headers.\n",
    "request_headers = {'Authorization': 'Bearer ' + access_token,\n",
    "               'Accept':        'application/json',\n",
    "               'Content-Type':  'application/json'}\n",
    "\n",
    "# Send a GET request to the ListLocations endpoint and obtain the response.\n",
    "connection = httplib.HTTPSConnection('connect.squareup.com')\n",
    "request_path = '/v1//items'\n",
    "connection.request('GET', request_path, '', request_headers)\n",
    "response = connection.getresponse()\n",
    "\n",
    "\n",
    "\n",
    "# Convert the returned JSON body into an array of locations you can work with.\n",
    "items_data = json.loads(response.read())\n",
    "\n",
    "# Pretty-print the locations array.\n",
    "#locations = json.dumps(locations, indent=2, separators=(',',': '))"
   ]
  },
  {
   "cell_type": "code",
   "execution_count": 47,
   "metadata": {
    "collapsed": false,
    "scrolled": true
   },
   "outputs": [],
   "source": [
    "\n",
    "#making empty lists to fill with JSON pulled data\n",
    "name_list = []\n",
    "quant_list = []\n",
    "quant_id_list = []\n",
    "time_list = []\n",
    "#pulling in item name,quantity purchased for the day, id of item, and time of purchase\n",
    "for i in pay_data:\n",
    "    for n in range(10):\n",
    "        #all of our entries should be complete every time, if not, we'll add a nan\n",
    "        try:\n",
    "            name_list.append(i['itemizations'][n]['name'])\n",
    "        except:\n",
    "            name_list.append(np.nan)\n",
    "        try:\n",
    "            quant_list.append(i['itemizations'][n]['quantity'])\n",
    "        except:\n",
    "            quant_list.append(np.nan)\n",
    "        try:\n",
    "            quant_id_list.append(i['itemizations'][n]['item_detail']['item_id'])\n",
    "        except:\n",
    "            quant_id_list.append(np.nan)\n",
    "        try:\n",
    "            time_list.append(i['created_at'])\n",
    "        except:\n",
    "            time_list.append(np.nan)\n",
    "\n",
    "        \n",
    "        \n",
    "id_list = []\n",
    "url_list = []\n",
    "names_list = []\n",
    "price_list = []\n",
    "#pulling in item, id, price of item, and image url\n",
    "for m in items_data:\n",
    "    #try and pull in data, if it doesn't exist for the instance, add a nan to be handled later\n",
    "    try:      \n",
    "        names_list.append(m['name'])\n",
    "    except:\n",
    "        names_list.append(np.nan)\n",
    "    try:\n",
    "        id_list.append(m['id'])\n",
    "    except:\n",
    "        id_list.append(np.nan)\n",
    "    try:\n",
    "        url_list.append(m['master_image']['url'])\n",
    "    except:\n",
    "        url_list.append(np.nan)\n",
    "    try:\n",
    "        price_list.append(m['variations'][0]['price_money']['amount'])\n",
    "    except:\n",
    "        price_list.append(np.nan)\n",
    "        \n",
    "\n"
   ]
  },
  {
   "cell_type": "code",
   "execution_count": 48,
   "metadata": {
    "collapsed": false,
    "scrolled": true
   },
   "outputs": [],
   "source": [
    "\n",
    "#making empty lists to fill with JSON pulled data\n",
    "name_list_week = []\n",
    "quant_list_week = []\n",
    "quant_id_list_week = []\n",
    "time_list_week = []\n",
    "#pulling in item name,quantity purchased for the day, id of item, and time of purchase\n",
    "for i in pay_data_week:\n",
    "    for n in range(10):\n",
    "        #all of our entries should be complete every time, if not, we'll add a nan\n",
    "        try:\n",
    "            name_list_week.append(i['itemizations'][n]['name'])\n",
    "        except:\n",
    "            name_list_week.append(np.nan)\n",
    "        try:\n",
    "            quant_list_week.append(i['itemizations'][n]['quantity'])\n",
    "        except:\n",
    "            quant_list_week.append(np.nan)\n",
    "        try:\n",
    "            quant_id_list_week.append(i['itemizations'][n]['item_detail']['item_id'])\n",
    "        except:\n",
    "            quant_id_list_week.append(np.nan)\n",
    "        try:\n",
    "            time_list_week.append(i['created_at'])\n",
    "        except:\n",
    "            time_list_week.append(np.nan)\n",
    "\n",
    "\n"
   ]
  },
  {
   "cell_type": "code",
   "execution_count": 49,
   "metadata": {
    "collapsed": false
   },
   "outputs": [
    {
     "data": {
      "image/png": "[encoded data removed]",
      "text/plain": [
       "<matplotlib.figure.Figure at 0x1148b9610>"
      ]
     },
     "metadata": {},
     "output_type": "display_data"
    }
   ],
   "source": [
    "#create data frame for each item on the menu and all the relevant information about it\n",
    "df2 = pd.DataFrame({'id':id_list,'url':url_list, 'name':names_list, 'price':price_list})\n",
    "df2.price = df2.price/100\n",
    "\n",
    "#the items without a url are not typical menu items, so we get rid of those entries.\n",
    "df2 = df2.dropna(subset = ['url']).reset_index()\n",
    "\n",
    "\n",
    "#Compile the payment data into a dataframe\n",
    "df_daily = pd.DataFrame({'quantity':quant_list,'id':quant_id_list,'item_name':name_list,'time_of_sale':time_list})\n",
    "\n",
    "\n",
    "#mergethe dataframes on ID, but maintain\n",
    "fin_df_daily = df_daily.merge(df2, on = 'id', how = 'outer')\n",
    "\n",
    "#we aren't interest in all of the columns from the original two dataframe, so we take the ones we want\n",
    "fin_df_daily = fin_df_daily[['name','quantity','id','price','url','time_of_sale']]\n",
    "\n",
    "#we are turning quantity into a numeric so we can aggregate it to get totala quantity sold in our group by below\n",
    "fin_df_daily.quantity = pd.to_numeric(fin_df_daily.loc[:,'quantity'])\n",
    "fin_df_daily = fin_df_daily[fin_df_daily.name.str.contains(\"drink\") == False]\n",
    "fin_df_daily = fin_df_daily[fin_df_daily.name.str.contains(\"Drink\") == False]\n",
    "\n",
    "#groupby quantity to get total sold for each product\n",
    "fin_df_daily = fin_df_daily.groupby(['name','id','price','url']).sum().reset_index().sort_values('quantity', ascending = False)\n",
    "\n",
    "fin_df_daily = fin_df_daily.reset_index(drop=True)\n",
    "\n",
    "daily_hot = fin_df_daily[0:3]\n",
    "daily_slow = fin_df_daily[-3:]\n",
    "\n",
    "\n",
    "#get name and quantity to faciliate plotting\n",
    "x = fin_df_daily.name\n",
    "y = fin_df_daily.quantity\n",
    "\n",
    "\n",
    "x_day = x\n",
    "y_day = y.astype(int)\n",
    "#bar plots want a list of integers for their x-values\n",
    "x_r = range(len(x))\n",
    "\n",
    "\n",
    "plt.bar(x_r,y, align='center')\n",
    "\n",
    "#bring in the labels (names) and rotate the labels to make them easy to read\n",
    "plt.xticks(x_r,x, rotation = 70)\n",
    "plt.title('Product Movement')\n",
    "plt.ylabel('Quantity Purchased')\n",
    "\n",
    "\n",
    "plt.show()"
   ]
  },
  {
   "cell_type": "code",
   "execution_count": 50,
   "metadata": {
    "collapsed": false
   },
   "outputs": [
    {
     "data": {
      "image/png": "[encoded data removed]",
      "text/plain": [
       "<matplotlib.figure.Figure at 0x1148007d0>"
      ]
     },
     "metadata": {},
     "output_type": "display_data"
    }
   ],
   "source": [
    "\n",
    "#Compile the payment data into a dataframe\n",
    "df_weekly = pd.DataFrame({'quantity':quant_list_week,'id':quant_id_list_week,'item_name':name_list_week,'time_of_sale':time_list_week})\n",
    "\n",
    "\n",
    "#mergethe dataframes on ID, but maintain\n",
    "fin_df_week = df_weekly.merge(df2, on = 'id', how = 'outer')\n",
    "\n",
    "#we aren't interest in all of the columns from the original two dataframe, so we take the ones we want\n",
    "fin_df_week = fin_df_week[['name','quantity','id','price','url','time_of_sale']]\n",
    "\n",
    "#we are turning quantity into a numeric so we can aggregate it to get totala quantity sold in our group by below\n",
    "fin_df_week.quantity = pd.to_numeric(fin_df_week.loc[:,'quantity'])\n",
    "fin_df_week = fin_df_week[fin_df_week.name.str.contains(\"drink\") == False]\n",
    "fin_df_week = fin_df_week[fin_df_week.name.str.contains(\"Drink\") == False]\n",
    "\n",
    "#groupby quantity to get total sold for each product\n",
    "fin_df_week = fin_df_week.groupby(['name','id','price','url']).sum().reset_index().sort_values('quantity', ascending = False)\n",
    "\n",
    "fin_df_week = fin_df_week.reset_index(drop=True)\n",
    "\n",
    "week_hot = fin_df_week[0:3]\n",
    "week_slow = fin_df_week[-3:]\n",
    "\n",
    "\n",
    "#get name and quantity to faciliate plotting\n",
    "x = fin_df_week.name\n",
    "y = fin_df_week.quantity\n",
    "\n",
    "x_week = x\n",
    "y_week = y.astype(int)\n",
    "\n",
    "#bar plots want a list of integers for their x-values\n",
    "x_r = range(len(x))\n",
    "\n",
    "\n",
    "plt.bar(x_r,y, align='center')\n",
    "\n",
    "#bring in the labels (names) and rotate the labels to make them easy to read\n",
    "plt.xticks(x_r,x, rotation = 70)\n",
    "plt.title('Product Movement')\n",
    "plt.ylabel('Quantity Purchased')\n",
    "\n",
    "\n",
    "plt.show()"
   ]
  },
  {
   "cell_type": "markdown",
   "metadata": {
    "collapsed": false
   },
   "source": [
    "print('Hot Products:\\n{}\\n{}\\n{}' .format(x[0],x[1],x[2]))"
   ]
  },
  {
   "cell_type": "markdown",
   "metadata": {
    "collapsed": false
   },
   "source": [
    "print('Slow Products:\\n{}' .format(x[-3:]))"
   ]
  },
  {
   "cell_type": "code",
   "execution_count": 53,
   "metadata": {
    "collapsed": false
   },
   "outputs": [],
   "source": [
    "#convert from string to datetime\n",
    "df_daily['time_of_sale'] = pd.to_datetime(df_daily['time_of_sale'])\n",
    "#subtract 8 hours from our time of sale to get SF time of sale\n",
    "df_daily['time_of_sale'] = df_daily.time_of_sale - timedelta(hours = 7)\n",
    "\n",
    "\n",
    "#function to determine whether the sale was around breakfast, lunch, or dinner/evening\n",
    "def t_o_d(time):\n",
    "    if time.hour < 11 and time.hour >= 5:\n",
    "        return 'Breakfast'\n",
    "    if time.hour >= 11 and time.hour < 17:\n",
    "         return 'Lunch'\n",
    "    if time.hour >= 17 or time.hour < 5:\n",
    "         return 'Dinner'\n",
    "        \n",
    "#function to determine whether the sale was on a weekend or weekday        \n",
    "def week_weekend (time):\n",
    "    if time.weekday() != 'saturday' and time.weekday() != 'sunday':\n",
    "        return 'weekday'\n",
    "    else:\n",
    "        return 'weekend'"
   ]
  },
  {
   "cell_type": "code",
   "execution_count": 54,
   "metadata": {
    "collapsed": false
   },
   "outputs": [],
   "source": [
    "#if quantity is NaN then we know its a worthless entry, so we drop it\n",
    "df_daily = df_daily.dropna(subset=['quantity']).reset_index(drop=True)"
   ]
  },
  {
   "cell_type": "code",
   "execution_count": 55,
   "metadata": {
    "collapsed": false
   },
   "outputs": [],
   "source": [
    "#apply our time of day function to our time of sale function\n",
    "df_daily['time_of_day'] = df_daily.time_of_sale.apply(t_o_d)"
   ]
  },
  {
   "cell_type": "code",
   "execution_count": 56,
   "metadata": {
    "collapsed": false
   },
   "outputs": [],
   "source": [
    "#apply the weekday/weekend function\n",
    "df_daily['week_weekend'] = df_daily.time_of_sale.apply(week_weekend)"
   ]
  },
  {
   "cell_type": "code",
   "execution_count": null,
   "metadata": {
    "collapsed": true
   },
   "outputs": [],
   "source": []
  },
  {
   "cell_type": "markdown",
   "metadata": {},
   "source": [
    "### Pymongo actually works in either BSON or Dict's, so this was worthless\n",
    "json_week_hot = week_hot.to_json(orient = 'index')\n",
    "json_week_slow = week_slow.to_json(orient = 'index')\n",
    "json_day_hot = daily_hot.to_json(orient = 'index')\n",
    "json_day_slow = daily_slow.to_json(orient = 'index')\n",
    "\n",
    "print(str(json_week_hot))\n",
    "print(str(json_week_slow))\n",
    "print(str(json_day_hot))\n",
    "print(str(json_day_slow))\n",
    "\n",
    "json_list = [json_day_hot,json_day_slow,json_week_hot, json_week_slow]"
   ]
  },
  {
   "cell_type": "code",
   "execution_count": 58,
   "metadata": {
    "collapsed": false
   },
   "outputs": [],
   "source": [
    "#making dictionaries out of our df, 'records' maintains row data\n",
    "dict_week_hot = week_hot.to_dict('records')\n",
    "dict_week_slow = week_slow.to_dict('records')\n",
    "dict_day_slow = daily_slow.to_dict('records')\n",
    "dict_day_hot = daily_hot.to_dict('records')\n",
    "\n",
    "\n",
    "\n",
    "dict_sold_day = OrderedDict(zip(x_day,y_day))\n",
    "dict_sold_week = OrderedDict(zip(x_week,y_week))\n",
    "\n",
    "#make a list of our dictionaries. We could iterate through this using UpdateMany(), but I prefer explicit indices they're \n",
    "#easier to debug\n",
    "#dict_list = [dict_day_hot,dict_day_slow,dict_week_hot, dict_week_slow]"
   ]
  },
  {
   "cell_type": "code",
   "execution_count": 59,
   "metadata": {
    "collapsed": true
   },
   "outputs": [],
   "source": [
    "#eventually we'll want this to be brought in externally from mongo\n",
    "merchant_id = ''"
   ]
  },
  {
   "cell_type": "code",
   "execution_count": 60,
   "metadata": {
    "collapsed": false,
    "scrolled": true
   },
   "outputs": [
    {
     "data": {
      "text/plain": [
       "\"\\nfor i in range(len(dict_list)):\\n    for n in range(len(dict_list[i])):\\n        record.insert_one({'hot_day':dict_list[i][n]})\""
      ]
     },
     "execution_count": 60,
     "metadata": {},
     "output_type": "execute_result"
    }
   ],
   "source": [
    "#connecting to our db\n",
    "from pymongo import MongoClient\n",
    "connection = MongoClient(host = 'mongodb://:/')\n",
    "db=connection.\n",
    "record=db['Report_backup']\n",
    "'''\n",
    "for i in range(len(dict_list)):\n",
    "    for n in range(len(dict_list[i])):\n",
    "        record.insert_one({'hot_day':dict_list[i][n]})'''"
   ]
  },
  {
   "cell_type": "markdown",
   "metadata": {},
   "source": [
    "productData is a collection in mongoDB\n",
    "for p in productData.find():\n",
    "     for k,v in p.iteritems():\n",
    "         value=v['a']\n",
    "         value=value+1\n",
    "         v['a']=value"
   ]
  },
  {
   "cell_type": "markdown",
   "metadata": {},
   "source": [
    "## initially this is how I was bringing things into mongo, the updatemany method accomplishes this much better, while also formatting and having the capability to update while dropping the old data\n",
    "record.insert_one(\n",
    "    {'59137b5c9d7b2400178ec04f':\n",
    "        {\n",
    "            'hot_day':{'item_1':dict_day_hot[0],'item_2':dict_day_hot[1],'item_3':dict_day_hot[2]},\n",
    "            'slow_day':{'item_1':dict_day_slow[0],'item_2':dict_day_slow[1],'item_3':dict_day_slow[2]},\n",
    "            'hot_week':{'item_1':dict_week_hot[0],'item_2':dict_week_hot[1],'item_3':dict_week_hot[2]},\n",
    "            'slow_week':{'item_1':dict_week_slow[0],'item_2':dict_week_slow[1],'item_3':dict_week_slow[2]}\n",
    "        }\n",
    "    }\n",
    ")"
   ]
  },
  {
   "cell_type": "code",
   "execution_count": 61,
   "metadata": {
    "collapsed": false
   },
   "outputs": [
    {
     "data": {
      "text/plain": [
       "<pymongo.results.UpdateResult at 0x10fcb84b0>"
      ]
     },
     "execution_count": 61,
     "metadata": {},
     "output_type": "execute_result"
    }
   ],
   "source": [
    "record.update_many({\n",
    "  'merchant_id': merchant_id\n",
    "},{\n",
    "  '$set': {\n",
    "    'hot_day': dict_day_hot,\n",
    "    'hot_week':dict_week_hot,\n",
    "    'slow_week':dict_week_slow,\n",
    "    'slow_day':dict_day_slow\n",
    "    \n",
    "  }\n",
    "}, upsert=True)\n",
    "\n",
    "record.update_one({\n",
    "  'merchant_uid': merchant_id\n",
    "},{\n",
    "  '$set': {\n",
    "      'weekly_quant':dict_sold_week,\n",
    "      'daily_quant':dict_sold_day\n",
    "    \n",
    "  }\n",
    "}, upsert=True)"
   ]
  },
  {
   "cell_type": "code",
   "execution_count": 65,
   "metadata": {
    "collapsed": false
   },
   "outputs": [],
   "source": []
  },
  {
   "cell_type": "code",
   "execution_count": null,
   "metadata": {
    "collapsed": false
   },
   "outputs": [],
   "source": []
  },
  {
   "cell_type": "code",
   "execution_count": null,
   "metadata": {
    "collapsed": false
   },
   "outputs": [],
   "source": []
  },
  {
   "cell_type": "code",
   "execution_count": null,
   "metadata": {
    "collapsed": false
   },
   "outputs": [],
   "source": []
  },
  {
   "cell_type": "code",
   "execution_count": null,
   "metadata": {
    "collapsed": true
   },
   "outputs": [],
   "source": []
  }
 ],
 "metadata": {
  "kernelspec": {
   "display_name": "Python 2",
   "language": "python",
   "name": "python2"
  },
  "language_info": {
   "codemirror_mode": {
    "name": "ipython",
    "version": 2
   },
   "file_extension": ".py",
   "mimetype": "text/x-python",
   "name": "python",
   "nbconvert_exporter": "python",
   "pygments_lexer": "ipython2",
   "version": "2.7.13"
  }
 },
 "nbformat": 4,
 "nbformat_minor": 2
}
